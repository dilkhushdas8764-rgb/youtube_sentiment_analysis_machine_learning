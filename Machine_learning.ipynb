{
  "nbformat": 4,
  "nbformat_minor": 0,
  "metadata": {
    "colab": {
      "provenance": []
    },
    "kernelspec": {
      "name": "python3",
      "display_name": "Python 3"
    },
    "language_info": {
      "name": "python"
    }
  },
  "cells": [
    {
      "cell_type": "code",
      "source": [
        "# YouTube Sentiment Analysis Project\n",
        "# Import Libraries\n",
        "import pandas as pd\n",
        "import numpy as np\n",
        "import re\n",
        "import string\n",
        "from sklearn.model_selection import train_test_split\n",
        "from sklearn.feature_extraction.text import TfidfVectorizer\n",
        "from sklearn.naive_bayes import MultinomialNB\n",
        "from sklearn.metrics import accuracy_score, confusion_matrix, classification_report\n",
        "\n",
        "# Step 1: Load Dataset\n",
        "df = pd.read_csv(\"youtube_comments.csv\")  # change to your dataset path\n",
        "print(df.head())\n",
        "\n",
        "\n",
        "\n",
        "# Step 2: Data Preprocessing\n",
        "def clean_text(text):\n",
        "    text = text.lower()\n",
        "    text = re.sub(r'http\\S+', '', text)  # remove URLs\n",
        "    text = re.sub(r'@\\w+', '', text)     # remove mentions\n",
        "    text = re.sub(r'#\\w+', '', text)     # remove hashtags\n",
        "    text = re.sub(r'[^\\w\\s]', '', text)  # remove punctuation\n",
        "    text = re.sub(r'\\d+', '', text)      # remove numbers\n",
        "    return text\n",
        "\n",
        "df['cleaned'] = df['comment'].apply(clean_text)\n",
        "\n",
        "# Step 3: Split Data\n",
        "X = df['cleaned']\n",
        "y = df['label']\n",
        "X_train, X_test, y_train, y_test = train_test_split(X, y, test_size=0.2, random_state=42)\n",
        "\n",
        "# Step 4: Feature Extraction (TF-IDF)\n",
        "tfidf = TfidfVectorizer(max_features=5000)\n",
        "X_train_tfidf = tfidf.fit_transform(X_train)\n",
        "X_test_tfidf = tfidf.transform(X_test)\n",
        "\n",
        "# Step 5: Train Model\n",
        "model = MultinomialNB()\n",
        "model.fit(X_train_tfidf, y_train)\n",
        "\n",
        "# Step 6: Predictions\n",
        "y_pred = model.predict(X_test_tfidf)\n",
        "\n",
        "# Step 7: Evaluation\n",
        "print(\"Accuracy:\", accuracy_score(y_test, y_pred))\n",
        "print(\"\\nConfusion Matrix:\\n\", confusion_matrix(y_test, y_pred))\n",
        "print(\"\\nClassification Report:\\n\", classification_report(y_test, y_pred))\n",
        "\n",
        "# Step 8: Try New Predictions\n",
        "sample_comments = [\n",
        "    \"I love this video! It’s awesome \",\n",
        "    \"This is terrible, I dislike it.\",\n",
        "    \"It's okay, not too good or bad.\"\n",
        "]\n",
        "\n",
        "sample_cleaned = [clean_text(x) for x in sample_comments]\n",
        "sample_tfidf = tfidf.transform(sample_cleaned)\n",
        "preds = model.predict(sample_tfidf)\n",
        "\n",
        "for c, p in zip(sample_comments, preds):\n",
        "    print(f\"Comment: {c} --> Sentiment: {p}\")\n"
      ],
      "metadata": {
        "colab": {
          "base_uri": "https://localhost:8080/"
        },
        "id": "yjODBPcWqVAw",
        "outputId": "98139c30-26bf-4ad0-dfea-c9cde67133c8"
      },
      "execution_count": null,
      "outputs": [
        {
          "output_type": "stream",
          "name": "stdout",
          "text": [
            "                                          comment     label\n",
            "0  This video is amazing! Loved every part of it.  positive\n",
            "1                I really hate the sound quality.  negative\n",
            "2               The editing was great and smooth.  positive\n",
            "3                   Not bad, but could be better.   neutral\n",
            "4                Worst video I’ve seen this week.  negative\n",
            "Accuracy: 0.0\n",
            "\n",
            "Confusion Matrix:\n",
            " [[0 0 1]\n",
            " [1 0 0]\n",
            " [2 0 0]]\n",
            "\n",
            "Classification Report:\n",
            "               precision    recall  f1-score   support\n",
            "\n",
            "    negative       0.00      0.00      0.00       1.0\n",
            "     neutral       0.00      0.00      0.00       1.0\n",
            "    positive       0.00      0.00      0.00       2.0\n",
            "\n",
            "    accuracy                           0.00       4.0\n",
            "   macro avg       0.00      0.00      0.00       4.0\n",
            "weighted avg       0.00      0.00      0.00       4.0\n",
            "\n",
            "Comment: I love this video! It’s awesome  --> Sentiment: negative\n",
            "Comment: This is terrible, I dislike it. --> Sentiment: negative\n",
            "Comment: It's okay, not too good or bad. --> Sentiment: neutral\n"
          ]
        },
        {
          "output_type": "stream",
          "name": "stderr",
          "text": [
            "/usr/local/lib/python3.12/dist-packages/sklearn/metrics/_classification.py:1565: UndefinedMetricWarning: Precision is ill-defined and being set to 0.0 in labels with no predicted samples. Use `zero_division` parameter to control this behavior.\n",
            "  _warn_prf(average, modifier, f\"{metric.capitalize()} is\", len(result))\n",
            "/usr/local/lib/python3.12/dist-packages/sklearn/metrics/_classification.py:1565: UndefinedMetricWarning: Precision is ill-defined and being set to 0.0 in labels with no predicted samples. Use `zero_division` parameter to control this behavior.\n",
            "  _warn_prf(average, modifier, f\"{metric.capitalize()} is\", len(result))\n",
            "/usr/local/lib/python3.12/dist-packages/sklearn/metrics/_classification.py:1565: UndefinedMetricWarning: Precision is ill-defined and being set to 0.0 in labels with no predicted samples. Use `zero_division` parameter to control this behavior.\n",
            "  _warn_prf(average, modifier, f\"{metric.capitalize()} is\", len(result))\n"
          ]
        }
      ]
    }
  ]
}